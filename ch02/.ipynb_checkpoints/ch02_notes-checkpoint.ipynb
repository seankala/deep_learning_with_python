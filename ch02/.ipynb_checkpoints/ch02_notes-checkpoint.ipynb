{
 "cells": [
  {
   "cell_type": "markdown",
   "metadata": {},
   "source": [
    "# Chapter 2\n",
    "## Before We Begin: The Mathematical Building Blocks of Neural Networks\n",
    "\n",
    "## This chapter covers:\n",
    "\n",
    "#### 1. A first example of a neural network\n",
    "\n",
    "#### 2. Tensors and tensor operations\n",
    "\n",
    "#### 3. How neural networks leran via backpropagation and gradient descent\n",
    "\n",
    "_As the chapter title implies, this chapter is going to provide some basic building blocks that we can work with regarding the more theoretical and mathematical concepts of neural networks._"
   ]
  },
  {
   "cell_type": "markdown",
   "metadata": {},
   "source": [
    "<br>\n",
    "\n",
    "## 2.1 A first look at a neural network\n",
    "\n",
    "Basically walks you through an example of a neural network using the [MNIST dataset](https://keras.io/datasets/#mnist-database-of-handwritten-digits)."
   ]
  },
  {
   "cell_type": "code",
   "execution_count": 1,
   "metadata": {},
   "outputs": [
    {
     "name": "stderr",
     "output_type": "stream",
     "text": [
      "C:\\Users\\seant\\Anaconda3\\lib\\site-packages\\h5py\\__init__.py:36: FutureWarning: Conversion of the second argument of issubdtype from `float` to `np.floating` is deprecated. In future, it will be treated as `np.float64 == np.dtype(float).type`.\n",
      "  from ._conv import register_converters as _register_converters\n",
      "Using TensorFlow backend.\n"
     ]
    }
   ],
   "source": [
    "from keras.datasets import mnist\n",
    "\n",
    "(train_images, train_labels), (test_images, test_labels) = mnist.load_data()"
   ]
  },
  {
   "cell_type": "code",
   "execution_count": 2,
   "metadata": {},
   "outputs": [
    {
     "data": {
      "text/plain": [
       "(60000, 28, 28)"
      ]
     },
     "execution_count": 2,
     "metadata": {},
     "output_type": "execute_result"
    }
   ],
   "source": [
    "train_images.shape"
   ]
  },
  {
   "cell_type": "code",
   "execution_count": 3,
   "metadata": {},
   "outputs": [
    {
     "data": {
      "text/plain": [
       "60000"
      ]
     },
     "execution_count": 3,
     "metadata": {},
     "output_type": "execute_result"
    }
   ],
   "source": [
    "len(train_labels)"
   ]
  },
  {
   "cell_type": "code",
   "execution_count": 4,
   "metadata": {},
   "outputs": [
    {
     "data": {
      "text/plain": [
       "array([5, 0, 4, ..., 5, 6, 8], dtype=uint8)"
      ]
     },
     "execution_count": 4,
     "metadata": {},
     "output_type": "execute_result"
    }
   ],
   "source": [
    "train_labels"
   ]
  },
  {
   "cell_type": "code",
   "execution_count": 5,
   "metadata": {},
   "outputs": [
    {
     "name": "stdout",
     "output_type": "stream",
     "text": [
      "WARNING:tensorflow:From C:\\Users\\seant\\Anaconda3\\lib\\site-packages\\tensorflow\\python\\framework\\op_def_library.py:263: colocate_with (from tensorflow.python.framework.ops) is deprecated and will be removed in a future version.\n",
      "Instructions for updating:\n",
      "Colocations handled automatically by placer.\n"
     ]
    }
   ],
   "source": [
    "from keras import models\n",
    "from keras import layers\n",
    "\n",
    "\n",
    "network = models.Sequential()\n",
    "network.add(layers.Dense(512, activation='relu', input_shape=(28 * 28,)))\n",
    "network.add(layers.Dense(10, activation='softmax'))"
   ]
  },
  {
   "cell_type": "code",
   "execution_count": 6,
   "metadata": {},
   "outputs": [],
   "source": [
    "network.compile(optimizer='rmsprop',\n",
    "                loss='categorical_crossentropy',\n",
    "                metrics=['accuracy'])"
   ]
  },
  {
   "cell_type": "code",
   "execution_count": 7,
   "metadata": {},
   "outputs": [],
   "source": [
    "train_images = train_images.reshape((60000, 28 * 28))\n",
    "train_images = train_images.astype('float32') / 255\n",
    "\n",
    "test_images = test_images.reshape((10000, 28 * 28))\n",
    "test_images = test_images.astype('float32') / 255"
   ]
  },
  {
   "cell_type": "code",
   "execution_count": 8,
   "metadata": {},
   "outputs": [],
   "source": [
    "from keras.utils import to_categorical\n",
    "\n",
    "\n",
    "train_labels = to_categorical(train_labels)\n",
    "test_labels = to_categorical(test_labels)"
   ]
  },
  {
   "cell_type": "code",
   "execution_count": 11,
   "metadata": {},
   "outputs": [
    {
     "name": "stdout",
     "output_type": "stream",
     "text": [
      "WARNING:tensorflow:From C:\\Users\\seant\\Anaconda3\\lib\\site-packages\\tensorflow\\python\\ops\\math_ops.py:3066: to_int32 (from tensorflow.python.ops.math_ops) is deprecated and will be removed in a future version.\n",
      "Instructions for updating:\n",
      "Use tf.cast instead.\n",
      "Epoch 1/5\n",
      "60000/60000 [==============================] - 4s 59us/step - loss: 0.2590 - acc: 0.9249\n",
      "Epoch 2/5\n",
      "60000/60000 [==============================] - 3s 55us/step - loss: 0.1054 - acc: 0.9683\n",
      "Epoch 3/5\n",
      "60000/60000 [==============================] - 3s 55us/step - loss: 0.0702 - acc: 0.9795\n",
      "Epoch 4/5\n",
      "60000/60000 [==============================] - 3s 56us/step - loss: 0.0500 - acc: 0.9844\n",
      "Epoch 5/5\n",
      "60000/60000 [==============================] - 3s 55us/step - loss: 0.0379 - acc: 0.9889\n"
     ]
    },
    {
     "data": {
      "text/plain": [
       "<keras.callbacks.History at 0x16dd4368198>"
      ]
     },
     "execution_count": 11,
     "metadata": {},
     "output_type": "execute_result"
    }
   ],
   "source": [
    "network.fit(train_images, train_labels, epochs=5, batch_size=128)"
   ]
  },
  {
   "cell_type": "code",
   "execution_count": 12,
   "metadata": {},
   "outputs": [
    {
     "name": "stdout",
     "output_type": "stream",
     "text": [
      "10000/10000 [==============================] - 0s 38us/step\n",
      "test_acc: 0.9766\n"
     ]
    }
   ],
   "source": [
    "test_loss, test_acc = network.evaluate(test_images, test_labels)\n",
    "print('test_acc:', test_acc)"
   ]
  },
  {
   "cell_type": "markdown",
   "metadata": {},
   "source": [
    "<br>\n",
    "\n",
    "In this section we:\n",
    "\n",
    "1. Load the MNIST data into the appropriate training and test data/labels.\n",
    "\n",
    "2. Form our network (dense sequential model with two layers).\n",
    "\n",
    "3. Compile our network with loss function as categorical cross entropy, optimizer as RMSprop and metric as accuracy.\n",
    "\n",
    "4. Reshape and scale the training and test data so that the shape is correct and the values are in the $[0,\\ 1]$ interval.\n",
    "\n",
    "  * Before: (60000, 28, 28) / `uint8` / \\[0, 255\\]\n",
    "  * After: (60000, 784) / `float32` / \\[0, 1\\]\n",
    "  \n",
    "5. Train the network with a total of five epochs.\n",
    "\n",
    "6. Test (evaluate) the network."
   ]
  },
  {
   "cell_type": "markdown",
   "metadata": {},
   "source": [
    "<br>\n",
    "## 2.2 Data Representations for Neural Networks\n",
    "\n",
    "Almost all current machine learning/deep learning applications take advantage of tensors. Tensors are essentially (and simplistically put) containers for numerical data. It's basically a container for numbers.\n",
    "\n",
    "For now it's better to just accept this as it is and look into the question of \"matrix vs. tensor\" later."
   ]
  },
  {
   "cell_type": "code",
   "execution_count": 13,
   "metadata": {},
   "outputs": [
    {
     "name": "stdout",
     "output_type": "stream",
     "text": [
      "x: 12\n",
      "\n",
      "x.ndim = 0\n"
     ]
    }
   ],
   "source": [
    "'''\n",
    "2.2.1 Scalars are 0D tensors since they have no dimension. They are just numbers.\n",
    "'''\n",
    "import numpy as np\n",
    "\n",
    "\n",
    "x = np.array(12)\n",
    "\n",
    "print(\"x: {}\".format(x))\n",
    "print()\n",
    "print(\"x.ndim = {}\".format(x.ndim))"
   ]
  },
  {
   "cell_type": "code",
   "execution_count": 14,
   "metadata": {},
   "outputs": [
    {
     "name": "stdout",
     "output_type": "stream",
     "text": [
      "x: [1 2 3 4 5]\n",
      "\n",
      "x.ndim = 1\n"
     ]
    }
   ],
   "source": [
    "'''\n",
    "2.2.2 Vectors are 1D tensors because they have one dimension.\n",
    "'''\n",
    "import numpy as np\n",
    "\n",
    "\n",
    "x = np.array([1, 2, 3, 4, 5])\n",
    "\n",
    "print(\"x: {}\".format(x))\n",
    "print()\n",
    "print(\"x.ndim = {}\".format(x.ndim))"
   ]
  },
  {
   "cell_type": "code",
   "execution_count": 16,
   "metadata": {},
   "outputs": [
    {
     "name": "stdout",
     "output_type": "stream",
     "text": [
      "x:\n",
      "[[1 2 3]\n",
      " [4 5 6]\n",
      " [7 8 9]]\n",
      "\n",
      "x.ndim = 2\n"
     ]
    }
   ],
   "source": [
    "'''\n",
    "2.2.3 Matrices are 2D tensors.\n",
    "'''\n",
    "import numpy as np\n",
    "\n",
    "\n",
    "x = np.array([[1, 2, 3], [4, 5, 6], [7, 8, 9]])\n",
    "\n",
    "print(\"x:\\n{}\".format(x))\n",
    "print()\n",
    "print(\"x.ndim = {}\".format(x.ndim))"
   ]
  },
  {
   "cell_type": "code",
   "execution_count": 21,
   "metadata": {},
   "outputs": [
    {
     "name": "stdout",
     "output_type": "stream",
     "text": [
      "x:\n",
      "[[[list([1, 2, 3]) list([4, 5, 6]) list([7, 8, 9])]\n",
      "  [10 11 12]\n",
      "  [13 14 15]]]\n",
      "\n",
      "x.ndim = 3\n"
     ]
    }
   ],
   "source": [
    "'''\n",
    "2.2.4 3D tensors and higher-dimensional tensors are possible as well.\n",
    "'''\n",
    "import numpy as np\n",
    "\n",
    "\n",
    "x = np.array([[[[1, 2, 3], [4, 5, 6], [7, 8, 9]], [10, 11, 12], [13, 14, 15]]])\n",
    "\n",
    "print(\"x:\\n{}\".format(x))\n",
    "print()\n",
    "print(\"x.ndim = {}\".format(x.ndim))"
   ]
  },
  {
   "cell_type": "markdown",
   "metadata": {},
   "source": [
    "<br>\n",
    "### 2.2.5 Tensors are defined by three key attributes:\n",
    "\n",
    "#### 1. Number of axes (rank)\n",
    "\n",
    "#### 2. Shape\n",
    "\n",
    "#### 3. Data type"
   ]
  }
 ],
 "metadata": {
  "kernelspec": {
   "display_name": "Python 3",
   "language": "python",
   "name": "python3"
  },
  "language_info": {
   "codemirror_mode": {
    "name": "ipython",
    "version": 3
   },
   "file_extension": ".py",
   "mimetype": "text/x-python",
   "name": "python",
   "nbconvert_exporter": "python",
   "pygments_lexer": "ipython3",
   "version": "3.6.5"
  }
 },
 "nbformat": 4,
 "nbformat_minor": 2
}
